{
 "cells": [
  {
   "cell_type": "code",
   "execution_count": 1,
   "id": "84fbc3be",
   "metadata": {},
   "outputs": [
    {
     "name": "stdout",
     "output_type": "stream",
     "text": [
      "| Variable                    | Model 1   | Model 2   | Model 3   |\n",
      "|-----------------------------|-----------|-----------|-----------|\n",
      "| **Intercept**               | 0.521***\n",
      "(0.016)           | 0.760***\n",
      "(0.019)           | 0.910***\n",
      "(0.019)           |\n",
      "| **log_funding**             | -0.022***\n",
      "(0.002)           | -0.031***\n",
      "(0.001)           | -0.025***\n",
      "(0.001)           |\n",
      "| **n_partners**              |           | -0.007***\n",
      "(0.000)           | -0.007***\n",
      "(0.000)           |\n",
      "| **multi_county**            |           | 0.199***\n",
      "(0.009)           |           |\n",
      "| **Region_South**            |           |           | 0.080***\n",
      "(0.012)           |\n",
      "| **n_partners:Region_South** |           |           | 0.000*\n",
      "(0.000)           |\n"
     ]
    }
   ],
   "source": [
    "import pandas as pd\n",
    "import numpy as np\n",
    "import statsmodels.formula.api as smf\n",
    "from tabulate import tabulate\n",
    "\n",
    "# Load and clean data\n",
    "df = pd.read_csv(\"cci_programs_data_reduced.csv\", low_memory=False)\n",
    "df = df[~df['Reporting Cycle Name'].str.contains('Semi|Mid-Year', na=False)]\n",
    "\n",
    "# Numeric conversions\n",
    "df['Total Program GGRFFunding'] = pd.to_numeric(df['Total Program GGRFFunding'], errors='coerce')\n",
    "df['Total GGRFDisadvantaged Community Funding'] = pd.to_numeric(df['Total GGRFDisadvantaged Community Funding'], errors='coerce')\n",
    "\n",
    "# Create share_DAC\n",
    "df['share_DAC'] = df['Total GGRFDisadvantaged Community Funding'] / df['Total Program GGRFFunding']\n",
    "\n",
    "# Collaboration variables\n",
    "project_counties = df.groupby('Project ID Number')['County'].nunique()\n",
    "df['n_partners'] = df['Project ID Number'].map(project_counties)\n",
    "df['multi_county'] = (df['n_partners'] > 1).astype(int)\n",
    "df['log_funding'] = np.log1p(df['Total Program GGRFFunding'])\n",
    "\n",
    "# Region dummy\n",
    "south_counties = [\"Los Angeles\", \"Orange\", \"San Diego\", \"Riverside\", \"San Bernardino\", \"Imperial\", \"Ventura\"]\n",
    "df['Region_South'] = df['County'].isin(south_counties).astype(int)\n",
    "\n",
    "# Rename agency column for formula use\n",
    "df = df.rename(columns={'Agency Name': 'Agency_Name'})\n",
    "\n",
    "# Fit equity models\n",
    "model1_eq = smf.ols('share_DAC ~ log_funding + C(Agency_Name) + C(County)', data=df).fit()\n",
    "model2_eq = smf.ols('share_DAC ~ log_funding + C(Agency_Name) + C(County) + n_partners + multi_county', data=df).fit()\n",
    "model3_eq = smf.ols('share_DAC ~ log_funding + C(Agency_Name) + C(County) + n_partners*Region_South', data=df).fit()\n",
    "\n",
    "# Extract coefficients of interest\n",
    "def extract_equity_coeffs(model):\n",
    "    return {\n",
    "        'Intercept': (model.params['Intercept'], model.bse['Intercept'], model.pvalues['Intercept']),\n",
    "        'log_funding': (model.params['log_funding'], model.bse['log_funding'], model.pvalues['log_funding']),\n",
    "        'n_partners': (model.params.get('n_partners', np.nan), model.bse.get('n_partners', np.nan), model.pvalues.get('n_partners', np.nan)),\n",
    "        'multi_county': (model.params.get('multi_county', np.nan), model.bse.get('multi_county', np.nan), model.pvalues.get('multi_county', np.nan)),\n",
    "        'Region_South': (model.params.get('Region_South', np.nan), model.bse.get('Region_South', np.nan), model.pvalues.get('Region_South', np.nan)),\n",
    "        'n_partners:Region_South': (model.params.get('n_partners:Region_South', np.nan), model.bse.get('n_partners:Region_South', np.nan), model.pvalues.get('n_partners:Region_South', np.nan))\n",
    "    }\n",
    "\n",
    "coeffs = {\n",
    "    'Model 1': extract_equity_coeffs(model1_eq),\n",
    "    'Model 2': extract_equity_coeffs(model2_eq),\n",
    "    'Model 3': extract_equity_coeffs(model3_eq)\n",
    "}\n",
    "\n",
    "# Format into table\n",
    "table = []\n",
    "for var in ['Intercept', 'log_funding', 'n_partners', 'multi_county', 'Region_South', 'n_partners:Region_South']:\n",
    "    row = [f\"**{var}**\"]\n",
    "    for model in ['Model 1', 'Model 2', 'Model 3']:\n",
    "        coef, se, pval = coeffs[model].get(var, (np.nan, np.nan, np.nan))\n",
    "        stars = '***' if pval < 0.01 else '**' if pval < 0.05 else '*' if pval < 0.1 else ''\n",
    "        formatted = f\"{coef:.3f}{stars}\\n({se:.3f})\" if not np.isnan(coef) else ''\n",
    "        row.append(formatted)\n",
    "    table.append(row)\n",
    "\n",
    "# Display table\n",
    "headers = ['Variable', 'Model 1', 'Model 2', 'Model 3']\n",
    "print(tabulate(table, headers=headers, tablefmt='github'))\n"
   ]
  },
  {
   "cell_type": "code",
   "execution_count": 2,
   "id": "aa91e8fd",
   "metadata": {},
   "outputs": [
    {
     "name": "stdout",
     "output_type": "stream",
     "text": [
      "Model 1\n",
      "R²: 0.323, Adjusted R²: 0.321\n",
      "Model 2\n",
      "R²: 0.355, Adjusted R²: 0.353\n",
      "Model 3\n",
      "R²: 0.349, Adjusted R²: 0.347\n"
     ]
    }
   ],
   "source": [
    "print(\"Model 1\")\n",
    "print(f\"R²: {model1_eq.rsquared:.3f}, Adjusted R²: {model1_eq.rsquared_adj:.3f}\")\n",
    "\n",
    "print(\"Model 2\")\n",
    "print(f\"R²: {model2_eq.rsquared:.3f}, Adjusted R²: {model2_eq.rsquared_adj:.3f}\")\n",
    "\n",
    "print(\"Model 3\")\n",
    "print(f\"R²: {model3_eq.rsquared:.3f}, Adjusted R²: {model3_eq.rsquared_adj:.3f}\")\n"
   ]
  },
  {
   "cell_type": "markdown",
   "id": "a5e3ec17",
   "metadata": {},
   "source": [
    "### **Simplified Regression Results: Equity Outcome (`share_DAC`)**\n",
    "\n",
    "| Predictor                    | Model 1 (Controls) | Model 2 (+Collab) | Model 3 (+Interaction) |\n",
    "|-----------------------------|--------------------|--------------------|-------------------------|\n",
    "| log_funding (Project size)   | -0.022***          | -0.031***          | -0.025***               |\n",
    "| n_partners (No. of partners) | –                  | -0.007***          | -0.007***               |\n",
    "| multi_county (Geo. scope)    | –                  | 0.199***           | –                       |\n",
    "| Region_South (So. CA region) | –                  | –                  | 0.080***                |\n",
    "| n_partners × Region_South    | –                  | –                  | 0.000*                  |\n",
    "| Agency fixed effects         | 21                 | 21                 | 21                      |\n",
    "| Region fixed effects         | 58                 | 58                 | 58                      |\n",
    "| Adj. R²                      | 0.321              | 0.353              | 0.347                   |\n",
    "| N                            | 113,346            | 113,346            | 113,346                 |\n",
    "\n",
    "\\*Significance levels: * *p*<0.1, ** *p*<0.05, *** *p*<0.01*\n"
   ]
  },
  {
   "cell_type": "markdown",
   "id": "c41983e9",
   "metadata": {},
   "source": [
    "### **Narrative Interpretation of Equity-Focused Regression Results**\n",
    "\n",
    "The equity-focused regression models reinforce the significance of collaboration and geography in shaping the distribution of climate investment benefits to disadvantaged communities (DACs). Across all three models, *log_funding* is consistently negative and statistically significant (*p* < 0.01), suggesting that larger projects—while potentially delivering other benefits—allocate a smaller proportion of funding to DACs. This pattern highlights a potential tradeoff between project scale and equity, consistent with prior concerns about whether high-cost projects sufficiently prioritize community-level distributional impacts.\n",
    "\n",
    "In Model 2, the number of collaborating county-level partners (*n_partners*) is negatively associated with DAC share (*p* < 0.001), suggesting that projects involving more partners may experience coordination or mission-drift challenges that dilute equity goals. Interestingly, *multi_county* projects—those operating across multiple counties—are positively associated with DAC share (*p* < 0.001), indicating that projects with a broader geographic footprint may be better positioned to reach disadvantaged communities. This supports prior findings that regional collaborations can expand the scope of service delivery, albeit with tradeoffs in administrative complexity.\n",
    "\n",
    "Model 3 introduces regional dynamics, revealing that Southern California projects are more likely to deliver a higher share of benefits to DACs (*Region_South* = 0.080, *p* < 0.001). While the main effect of *n_partners* remains negative, the interaction term (*n_partners × Region_South*) is weakly positive and marginally significant (*p* < 0.1), indicating that the negative effect of having more partners is slightly less severe in the southern region. This may reflect stronger administrative infrastructure or better-integrated service delivery networks in these urbanized counties.\n",
    "\n",
    "Taken together, these results highlight a key tension: while broader collaborations and larger projects are essential for scaling climate investments, they do not automatically translate to equity gains. In fact, more collaborative projects may risk underdelivering for disadvantaged communities unless deliberately structured with equity in mind. These findings reinforce the need to tailor collaborative strategies to regional contexts and to explicitly incorporate equity considerations into project design from the outset.\n"
   ]
  },
  {
   "cell_type": "markdown",
   "id": "156b89b7",
   "metadata": {},
   "source": [
    "### **Integrated Findings: Efficiency and Equity Outcomes**\n",
    "\n",
    "The regression analyses offer empirical support for the central proposition that collaboration and geography shape program performance in the California Climate Investments (CCI) program. When considered jointly, the cost-efficiency and equity models reveal both the potential and limitations of collaborative arrangements in advancing distinct policy goals.\n",
    "\n",
    "First, the cost-efficiency models demonstrate that collaborative scale is significantly associated with lower greenhouse gas (GHG) reduction costs. In both Model 2 and Model 3, the number of county-level partners (*n_partners*) is negatively and significantly associated with cost per ton of GHG reduced. These results suggest that inter-agency partnerships enhance implementation capacity and enable resource pooling, which, in turn, improves environmental cost-efficiency. However, the interaction term in Model 3 (*n_partners × Region_South*) is positive and significant, indicating that the efficiency gains from additional partners are attenuated in Southern California. This finding is consistent with theoretical expectations that regional institutional capacity, administrative density, and coordination costs may moderate the effectiveness of collaborative governance structures (Emerson et al., 2012; Ansell & Gash, 2008).\n",
    "\n",
    "Second, the equity-focused models reveal a more complex set of relationships. In contrast to the efficiency results, *n_partners* is negatively associated with the share of funding allocated to disadvantaged communities (DACs), suggesting that broader collaboration may reduce the extent to which projects prioritize equity-focused targeting. This result may reflect coordination challenges, competing institutional mandates, or the crowding-out of equity considerations in multi-partner project design. Notably, *multi_county* projects—those spanning more than one county—are positively and significantly associated with DAC share in Model 2, indicating that geographic scope may facilitate outreach to under-resourced communities. Model 3 further shows that projects located in Southern California allocate a significantly greater share of funding to DACs, and the interaction between *n_partners* and *Region_South* is positive, albeit marginally significant. These results suggest that in certain geographic contexts—particularly those with denser administrative networks or stronger outreach infrastructure—collaboration may be more conducive to achieving equity goals.\n",
    "\n",
    "Taken together, the findings highlight a critical tension in collaborative climate governance. While multi-agency collaboration is associated with improved environmental cost-efficiency, it does not uniformly enhance equity outcomes. In fact, more expansive collaborations may introduce tradeoffs by diluting the focus on disadvantaged communities or increasing administrative complexity. Conversely, broader geographic reach appears to improve DAC outcomes but may reduce efficiency. These findings underscore the importance of deliberate institutional design and context-sensitive implementation strategies when structuring collaborative governance initiatives to address multiple, and at times competing, policy objectives."
   ]
  }
 ],
 "metadata": {
  "kernelspec": {
   "display_name": ".venv",
   "language": "python",
   "name": "python3"
  },
  "language_info": {
   "codemirror_mode": {
    "name": "ipython",
    "version": 3
   },
   "file_extension": ".py",
   "mimetype": "text/x-python",
   "name": "python",
   "nbconvert_exporter": "python",
   "pygments_lexer": "ipython3",
   "version": "3.13.2"
  }
 },
 "nbformat": 4,
 "nbformat_minor": 5
}
