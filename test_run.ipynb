{
 "cells": [
  {
   "cell_type": "code",
   "execution_count": 2,
   "id": "f58e55a7",
   "metadata": {},
   "outputs": [
    {
     "name": "stdout",
     "output_type": "stream",
     "text": [
      "  Project ID Number Reporting Cycle Name                     Agency Name  \\\n",
      "0       G14-LCTI-01                 2015  California Air Resources Board   \n",
      "1       G14-LCTI-01                 2015  California Air Resources Board   \n",
      "2       G14-LCTI-01                 2015  California Air Resources Board   \n",
      "3       G14-LCTI-01                 2015  California Air Resources Board   \n",
      "4       G14-LCTI-01                 2015  California Air Resources Board   \n",
      "\n",
      "                Program Name  Sub Program Name Record Type   CensusTract  \\\n",
      "0  Low Carbon Transportation  Clean Cars 4 All   IMPLEMENT  6.019001e+09   \n",
      "1  Low Carbon Transportation  Clean Cars 4 All   IMPLEMENT  6.019001e+09   \n",
      "2  Low Carbon Transportation  Clean Cars 4 All   IMPLEMENT  6.019001e+09   \n",
      "3  Low Carbon Transportation  Clean Cars 4 All   IMPLEMENT  6.019002e+09   \n",
      "4  Low Carbon Transportation  Clean Cars 4 All   IMPLEMENT  6.019003e+09   \n",
      "\n",
      "  Lat Long Senate District Assembly District  ...  \\\n",
      "0      NaN              14                31  ...   \n",
      "1      NaN              14                31  ...   \n",
      "2      NaN              14                31  ...   \n",
      "3      NaN              14                31  ...   \n",
      "4      NaN              14                31  ...   \n",
      "\n",
      "  Estimated Energy Generated KWH  Estimated Fuel Use Reduction Gal  \\\n",
      "0                              0                                 0   \n",
      "1                              0                                 0   \n",
      "2                              0                                 0   \n",
      "3                              0                                 0   \n",
      "4                              0                                 0   \n",
      "\n",
      "   Vouchers Benefiting Disadvantaged Communities Number Of Rebates Issued  \\\n",
      "0                                              0                        1   \n",
      "1                                              0                        1   \n",
      "2                                              0                        2   \n",
      "3                                              0                        1   \n",
      "4                                              0                        1   \n",
      "\n",
      "   Rebates Within Disadvantaged Communities  Date Operational  \\\n",
      "0                                         0               NaN   \n",
      "1                                         0               NaN   \n",
      "2                                         0               NaN   \n",
      "3                                         0               NaN   \n",
      "4                                         0               NaN   \n",
      "\n",
      "   Project Completion Date Is AB1550 Buffer Region  \\\n",
      "0               2018-05-01                   False   \n",
      "1               2018-05-01                   False   \n",
      "2               2018-05-01                   False   \n",
      "3               2018-05-01                   False   \n",
      "4               2018-05-01                   False   \n",
      "\n",
      "   Is Benefit DAC1550 Communities Is Low Income Communities  \n",
      "0                           False                     False  \n",
      "1                           False                     False  \n",
      "2                           False                     False  \n",
      "3                           False                     False  \n",
      "4                           False                     False  \n",
      "\n",
      "[5 rows x 44 columns]\n"
     ]
    },
    {
     "name": "stderr",
     "output_type": "stream",
     "text": [
      "/tmp/ipykernel_428033/1243474635.py:4: DtypeWarning: Columns (1,13,21) have mixed types. Specify dtype option on import or set low_memory=False.\n",
      "  df = pd.read_csv('cci_programs_data_reduced.csv')\n"
     ]
    }
   ],
   "source": [
    "import pandas as pd\n",
    "\n",
    "# Load your data\n",
    "df = pd.read_csv('cci_programs_data_reduced.csv')\n",
    "\n",
    "# Test the format\n",
    "print(df.head())"
   ]
  }
 ],
 "metadata": {
  "kernelspec": {
   "display_name": "spatial_env",
   "language": "python",
   "name": "python3"
  },
  "language_info": {
   "codemirror_mode": {
    "name": "ipython",
    "version": 3
   },
   "file_extension": ".py",
   "mimetype": "text/x-python",
   "name": "python",
   "nbconvert_exporter": "python",
   "pygments_lexer": "ipython3",
   "version": "3.12.2"
  }
 },
 "nbformat": 4,
 "nbformat_minor": 5
}
